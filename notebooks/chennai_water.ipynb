{
 "cells": [
  {
   "cell_type": "code",
   "execution_count": 7,
   "metadata": {
    "collapsed": true,
    "pycharm": {
     "name": "#%%\n"
    }
   },
   "outputs": [],
   "source": [
    "# based on https://www.kaggle.com/code/sudalairajkumar/exploration-to-quench-chennai-s-thirst"
   ]
  },
  {
   "cell_type": "code",
   "execution_count": 8,
   "metadata": {
    "pycharm": {
     "name": "#%%\n"
    }
   },
   "outputs": [
    {
     "data": {
      "text/html": "        <script type=\"text/javascript\">\n        window.PlotlyConfig = {MathJaxConfig: 'local'};\n        if (window.MathJax && window.MathJax.Hub && window.MathJax.Hub.Config) {window.MathJax.Hub.Config({SVG: {font: \"STIX-Web\"}});}\n        if (typeof require !== 'undefined') {\n        require.undef(\"plotly\");\n        requirejs.config({\n            paths: {\n                'plotly': ['https://cdn.plot.ly/plotly-2.12.1.min']\n            }\n        });\n        require(['plotly'], function(Plotly) {\n            window._Plotly = Plotly;\n        });\n        }\n        </script>\n        "
     },
     "metadata": {},
     "output_type": "display_data"
    }
   ],
   "source": [
    "import numpy as np\n",
    "import pandas as pd\n",
    "import matplotlib.pyplot as plt\n",
    "import seaborn as sns\n",
    "color = sns.color_palette()\n",
    "%matplotlib inline\n",
    "\n",
    "import plotly.offline as py\n",
    "from plotly import subplots\n",
    "py.init_notebook_mode(connected=True)\n",
    "import plotly.graph_objs as go\n",
    "import plotly.io as pio\n",
    "pio.renderers.default = 'svg'\n"
   ]
  },
  {
   "cell_type": "code",
   "execution_count": 9,
   "metadata": {
    "pycharm": {
     "name": "#%%\n"
    }
   },
   "outputs": [
    {
     "data": {
      "text/plain": "        Date  POONDI  CHOLAVARAM  REDHILLS  CHEMBARAMBAKKAM\n0 2004-01-01     3.9         0.0     268.0              0.0\n1 2004-01-02     3.9         0.0     268.0              0.0\n2 2004-01-03     3.9         0.0     267.0              0.0\n3 2004-01-04     3.9         0.0     267.0              0.0\n4 2004-01-05     3.8         0.0     267.0              0.0",
      "text/html": "<div>\n<style scoped>\n    .dataframe tbody tr th:only-of-type {\n        vertical-align: middle;\n    }\n\n    .dataframe tbody tr th {\n        vertical-align: top;\n    }\n\n    .dataframe thead th {\n        text-align: right;\n    }\n</style>\n<table border=\"1\" class=\"dataframe\">\n  <thead>\n    <tr style=\"text-align: right;\">\n      <th></th>\n      <th>Date</th>\n      <th>POONDI</th>\n      <th>CHOLAVARAM</th>\n      <th>REDHILLS</th>\n      <th>CHEMBARAMBAKKAM</th>\n    </tr>\n  </thead>\n  <tbody>\n    <tr>\n      <th>0</th>\n      <td>2004-01-01</td>\n      <td>3.9</td>\n      <td>0.0</td>\n      <td>268.0</td>\n      <td>0.0</td>\n    </tr>\n    <tr>\n      <th>1</th>\n      <td>2004-01-02</td>\n      <td>3.9</td>\n      <td>0.0</td>\n      <td>268.0</td>\n      <td>0.0</td>\n    </tr>\n    <tr>\n      <th>2</th>\n      <td>2004-01-03</td>\n      <td>3.9</td>\n      <td>0.0</td>\n      <td>267.0</td>\n      <td>0.0</td>\n    </tr>\n    <tr>\n      <th>3</th>\n      <td>2004-01-04</td>\n      <td>3.9</td>\n      <td>0.0</td>\n      <td>267.0</td>\n      <td>0.0</td>\n    </tr>\n    <tr>\n      <th>4</th>\n      <td>2004-01-05</td>\n      <td>3.8</td>\n      <td>0.0</td>\n      <td>267.0</td>\n      <td>0.0</td>\n    </tr>\n  </tbody>\n</table>\n</div>"
     },
     "execution_count": 9,
     "metadata": {},
     "output_type": "execute_result"
    }
   ],
   "source": [
    "df = pd.read_csv(\"../data/chennai_reservoir_levels.csv\")\n",
    "df[\"Date\"] = pd.to_datetime(df[\"Date\"], format='%d-%m-%Y')\n",
    "df.head()"
   ]
  },
  {
   "cell_type": "code",
   "execution_count": 10,
   "metadata": {
    "pycharm": {
     "name": "#%%\n"
    }
   },
   "outputs": [
    {
     "name": "stdout",
     "output_type": "stream",
     "text": [
      "<class 'pandas.core.frame.DataFrame'>\n",
      "RangeIndex: 6182 entries, 0 to 6181\n",
      "Data columns (total 5 columns):\n",
      " #   Column           Non-Null Count  Dtype         \n",
      "---  ------           --------------  -----         \n",
      " 0   Date             6182 non-null   datetime64[ns]\n",
      " 1   POONDI           6182 non-null   float64       \n",
      " 2   CHOLAVARAM       6182 non-null   float64       \n",
      " 3   REDHILLS         6182 non-null   float64       \n",
      " 4   CHEMBARAMBAKKAM  6182 non-null   float64       \n",
      "dtypes: datetime64[ns](1), float64(4)\n",
      "memory usage: 241.6 KB\n"
     ]
    }
   ],
   "source": [
    "df.info()"
   ]
  },
  {
   "cell_type": "code",
   "execution_count": 11,
   "metadata": {
    "pycharm": {
     "name": "#%%\n"
    }
   },
   "outputs": [
    {
     "data": {
      "text/plain": "            POONDI   CHOLAVARAM     REDHILLS  CHEMBARAMBAKKAM\ncount  6182.000000  6182.000000  6182.000000      6182.000000\nmean   1106.739588   226.404589  1592.321652      1321.460555\nstd    1004.555050   266.886855   915.243744       951.791133\nmin       0.900000     0.000000     0.000000         0.000000\n25%     202.000000    26.000000   847.250000       459.250000\n50%     783.150000    89.000000  1685.000000      1264.000000\n75%    1918.000000   411.000000  2320.000000      2046.750000\nmax    3231.000000   896.000000  3300.000000      3396.000000",
      "text/html": "<div>\n<style scoped>\n    .dataframe tbody tr th:only-of-type {\n        vertical-align: middle;\n    }\n\n    .dataframe tbody tr th {\n        vertical-align: top;\n    }\n\n    .dataframe thead th {\n        text-align: right;\n    }\n</style>\n<table border=\"1\" class=\"dataframe\">\n  <thead>\n    <tr style=\"text-align: right;\">\n      <th></th>\n      <th>POONDI</th>\n      <th>CHOLAVARAM</th>\n      <th>REDHILLS</th>\n      <th>CHEMBARAMBAKKAM</th>\n    </tr>\n  </thead>\n  <tbody>\n    <tr>\n      <th>count</th>\n      <td>6182.000000</td>\n      <td>6182.000000</td>\n      <td>6182.000000</td>\n      <td>6182.000000</td>\n    </tr>\n    <tr>\n      <th>mean</th>\n      <td>1106.739588</td>\n      <td>226.404589</td>\n      <td>1592.321652</td>\n      <td>1321.460555</td>\n    </tr>\n    <tr>\n      <th>std</th>\n      <td>1004.555050</td>\n      <td>266.886855</td>\n      <td>915.243744</td>\n      <td>951.791133</td>\n    </tr>\n    <tr>\n      <th>min</th>\n      <td>0.900000</td>\n      <td>0.000000</td>\n      <td>0.000000</td>\n      <td>0.000000</td>\n    </tr>\n    <tr>\n      <th>25%</th>\n      <td>202.000000</td>\n      <td>26.000000</td>\n      <td>847.250000</td>\n      <td>459.250000</td>\n    </tr>\n    <tr>\n      <th>50%</th>\n      <td>783.150000</td>\n      <td>89.000000</td>\n      <td>1685.000000</td>\n      <td>1264.000000</td>\n    </tr>\n    <tr>\n      <th>75%</th>\n      <td>1918.000000</td>\n      <td>411.000000</td>\n      <td>2320.000000</td>\n      <td>2046.750000</td>\n    </tr>\n    <tr>\n      <th>max</th>\n      <td>3231.000000</td>\n      <td>896.000000</td>\n      <td>3300.000000</td>\n      <td>3396.000000</td>\n    </tr>\n  </tbody>\n</table>\n</div>"
     },
     "execution_count": 11,
     "metadata": {},
     "output_type": "execute_result"
    }
   ],
   "source": [
    "df.describe()"
   ]
  },
  {
   "cell_type": "code",
   "execution_count": 17,
   "outputs": [],
   "source": [
    "import datetime\n",
    "\n",
    "def scatter_plot(cnt_srs, color):\n",
    "    trace = go.Scatter(\n",
    "        x=cnt_srs.index[::-1],\n",
    "        y=cnt_srs.values[::-1],\n",
    "        showlegend=False,\n",
    "        marker=dict(\n",
    "            color=color,\n",
    "        ),\n",
    "    )\n",
    "    return trace\n",
    "\n",
    "cnt_srs = df[\"POONDI\"]\n",
    "cnt_srs.index = df[\"Date\"]\n",
    "trace1 = scatter_plot(cnt_srs, 'red')\n",
    "\n",
    "cnt_srs = df[\"CHOLAVARAM\"]\n",
    "cnt_srs.index = df[\"Date\"]\n",
    "trace2 = scatter_plot(cnt_srs, 'blue')\n",
    "\n",
    "cnt_srs = df[\"REDHILLS\"]\n",
    "cnt_srs.index = df[\"Date\"]\n",
    "trace3 = scatter_plot(cnt_srs, 'green')\n",
    "\n",
    "cnt_srs = df[\"CHEMBARAMBAKKAM\"]\n",
    "cnt_srs.index = df[\"Date\"]\n",
    "trace4 = scatter_plot(cnt_srs, 'purple')\n",
    "\n",
    "subtitles = [\"Water Availability in Poondi reservoir - in mcft\",\n",
    "             \"Water Availability in Cholavaram reservoir - in mcft\",\n",
    "             \"Water Availability in Redhills reservoir - in mcft\",\n",
    "             \"Water Availability in Chembarambakkam reservoir - in mcft\"\n",
    "            ]\n",
    "fig = subplots.make_subplots(rows=4, cols=1, vertical_spacing=0.08,\n",
    "                          subplot_titles=subtitles)\n",
    "fig.append_trace(trace1, 1, 1)\n",
    "fig.append_trace(trace2, 2, 1)\n",
    "fig.append_trace(trace3, 3, 1)\n",
    "fig.append_trace(trace4, 4, 1)\n",
    "fig['layout'].update(height=1200, width=800, paper_bgcolor='rgb(233,233,233)')\n",
    "fig.write_html('figure.html', auto_open=True)"
   ],
   "metadata": {
    "collapsed": false,
    "pycharm": {
     "name": "#%%\n"
    }
   }
  },
  {
   "cell_type": "code",
   "execution_count": 19,
   "outputs": [],
   "source": [
    "\n",
    "df[\"total\"] = df[\"POONDI\"] + df[\"CHOLAVARAM\"] + df[\"REDHILLS\"] + df[\"CHEMBARAMBAKKAM\"]\n",
    "df[\"total\"] = df[\"POONDI\"] + df[\"CHOLAVARAM\"] + df[\"REDHILLS\"] + df[\"CHEMBARAMBAKKAM\"]\n",
    "\n",
    "cnt_srs = df[\"total\"]\n",
    "cnt_srs.index = df[\"Date\"]\n",
    "trace5 = scatter_plot(cnt_srs, 'red')\n",
    "\n",
    "fig = subplots.make_subplots(rows=1, cols=1, vertical_spacing=0.08,\n",
    "                          subplot_titles=[\"Total water availability from all four reservoirs - in mcft\"])\n",
    "fig.append_trace(trace5, 1, 1)\n",
    "\n",
    "\n",
    "fig['layout'].update(height=400, width=800, paper_bgcolor='rgb(233,233,233)')\n",
    "fig.write_html('figure.html', auto_open=True)"
   ],
   "metadata": {
    "collapsed": false,
    "pycharm": {
     "name": "#%%\n"
    }
   }
  },
  {
   "cell_type": "code",
   "execution_count": 21,
   "outputs": [],
   "source": [
    "rain_df = pd.read_csv(\"../data/chennai_reservoir_rainfall.csv\")\n",
    "rain_df[\"Date\"] = pd.to_datetime(rain_df[\"Date\"], format='%d-%m-%Y')\n",
    "\n",
    "rain_df[\"total\"] = rain_df[\"POONDI\"] + rain_df[\"CHOLAVARAM\"] + rain_df[\"REDHILLS\"] + rain_df[\"CHEMBARAMBAKKAM\"]\n",
    "rain_df[\"total\"] = rain_df[\"POONDI\"] + rain_df[\"CHOLAVARAM\"] + rain_df[\"REDHILLS\"] + rain_df[\"CHEMBARAMBAKKAM\"]\n",
    "\n",
    "def bar_plot(cnt_srs, color):\n",
    "    trace = go.Bar(\n",
    "        x=cnt_srs.index[::-1],\n",
    "        y=cnt_srs.values[::-1],\n",
    "        showlegend=False,\n",
    "        marker=dict(\n",
    "            color=color,\n",
    "        ),\n",
    "    )\n",
    "    return trace\n",
    "\n",
    "rain_df[\"YearMonth\"] = pd.to_datetime(rain_df[\"Date\"].dt.year.astype(str) + rain_df[\"Date\"].dt.month.astype(str), format='%Y%m')\n",
    "\n",
    "cnt_srs = rain_df.groupby(\"YearMonth\")[\"total\"].sum()\n",
    "trace5 = bar_plot(cnt_srs, 'red')\n",
    "\n",
    "fig = subplots.make_subplots(rows=1, cols=1, vertical_spacing=0.08,\n",
    "                          subplot_titles=[\"Total rainfall in all four reservoir regions - in mm\"])\n",
    "fig.append_trace(trace5, 1, 1)\n",
    "\n",
    "\n",
    "fig['layout'].update(height=400, width=800, paper_bgcolor='rgb(233,233,233)')\n",
    "fig.write_html('figure.html', auto_open=True)"
   ],
   "metadata": {
    "collapsed": false,
    "pycharm": {
     "name": "#%%\n"
    }
   }
  },
  {
   "cell_type": "code",
   "execution_count": 23,
   "outputs": [],
   "source": [
    "rain_df[\"Year\"] = pd.to_datetime(rain_df[\"Date\"].dt.year.astype(str), format='%Y')\n",
    "\n",
    "cnt_srs = rain_df.groupby(\"Year\")[\"total\"].sum()\n",
    "trace5 = bar_plot(cnt_srs, 'red')\n",
    "\n",
    "fig = subplots.make_subplots(rows=1, cols=1, vertical_spacing=0.08,\n",
    "                          subplot_titles=[\"Total yearly rainfall in all four reservoir regions - in mm\"])\n",
    "fig.append_trace(trace5, 1, 1)\n",
    "\n",
    "\n",
    "fig['layout'].update(height=400, width=800, paper_bgcolor='rgb(233,233,233)')\n",
    "fig.write_html('figure.html', auto_open=True)"
   ],
   "metadata": {
    "collapsed": false,
    "pycharm": {
     "name": "#%%\n"
    }
   }
  },
  {
   "cell_type": "code",
   "execution_count": 26,
   "outputs": [],
   "source": [
    "temp_df = df[(df[\"Date\"].dt.month==2) & (df[\"Date\"].dt.day==1)]\n",
    "\n",
    "cnt_srs = temp_df[\"total\"]\n",
    "cnt_srs.index = temp_df[\"Date\"]\n",
    "trace5 = bar_plot(cnt_srs, 'red')\n",
    "\n",
    "fig = subplots.make_subplots(rows=1, cols=1, vertical_spacing=0.08,\n",
    "                          subplot_titles=[\"Availability of total reservoir water (4 major ones) at the beginning of summer\"])\n",
    "fig.append_trace(trace5, 1, 1)\n",
    "\n",
    "\n",
    "fig['layout'].update(height=400, width=800, paper_bgcolor='rgb(233,233,233)')\n",
    "fig.write_html('figure.html', auto_open=True)"
   ],
   "metadata": {
    "collapsed": false,
    "pycharm": {
     "name": "#%%\n"
    }
   }
  }
 ],
 "metadata": {
  "kernelspec": {
   "display_name": "Python 3 (ipykernel)",
   "language": "python",
   "name": "python3"
  },
  "language_info": {
   "codemirror_mode": {
    "name": "ipython",
    "version": 3
   },
   "file_extension": ".py",
   "mimetype": "text/x-python",
   "name": "python",
   "nbconvert_exporter": "python",
   "pygments_lexer": "ipython3",
   "version": "3.10.4"
  }
 },
 "nbformat": 4,
 "nbformat_minor": 1
}